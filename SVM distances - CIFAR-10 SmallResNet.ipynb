{
 "cells": [
  {
   "cell_type": "code",
   "execution_count": 1,
   "metadata": {},
   "outputs": [
    {
     "name": "stderr",
     "output_type": "stream",
     "text": [
      "/data/anaconda/envs/py35/lib/python3.5/site-packages/h5py/__init__.py:36: FutureWarning: Conversion of the second argument of issubdtype from `float` to `np.floating` is deprecated. In future, it will be treated as `np.float64 == np.dtype(float).type`.\n",
      "  from ._conv import register_converters as _register_converters\n",
      "Using TensorFlow backend.\n"
     ]
    }
   ],
   "source": [
    "import numpy as np\n",
    "\n",
    "from keras.models import Model, load_model\n",
    "from keras.datasets import cifar10\n",
    "import keras.backend as K\n",
    "\n",
    "from pgd_attack import AdversarialExampleGenerator\n",
    "\n",
    "from sklearn.preprocessing import StandardScaler\n",
    "from sklearn.svm import SVC\n",
    "\n",
    "import matplotlib\n",
    "import matplotlib.pyplot as plt\n",
    "import matplotlib.ticker as ticker\n",
    "\n",
    "from tqdm import tqdm\n",
    "\n",
    "import os\n",
    "import math\n",
    "from statistics import mean, median\n",
    "\n",
    "# Restrict GPU memory usage\n",
    "from keras.backend.tensorflow_backend import set_session\n",
    "import tensorflow as tf\n",
    "config = tf.ConfigProto()\n",
    "config.gpu_options.allow_growth = True\n",
    "config.gpu_options.visible_device_list = \"1\"\n",
    "sess = tf.Session(config=config)\n",
    "set_session(sess)"
   ]
  },
  {
   "cell_type": "code",
   "execution_count": 2,
   "metadata": {},
   "outputs": [],
   "source": [
    "epsilon = 2 / 255\n",
    "batch_size = 64\n",
    "model_path = \"saved_models/CIFAR10_SmallResNet_eps_0.008/Apr26_17-03-48/weights_050_0.67.h5\""
   ]
  },
  {
   "cell_type": "code",
   "execution_count": 3,
   "metadata": {},
   "outputs": [
    {
     "name": "stdout",
     "output_type": "stream",
     "text": [
      "45000 train samples\n",
      "5000 validation samples\n",
      "10000 test samples\n"
     ]
    }
   ],
   "source": [
    "####################\n",
    "# Data preparation #\n",
    "####################\n",
    "\n",
    "(x_train, y_train), (x_test, y_test) = cifar10.load_data()\n",
    "\n",
    "# Leave aside a validation set\n",
    "x_valid = x_train[-5000:]\n",
    "y_valid = y_train[-5000:]\n",
    "x_train = x_train[:-5000]\n",
    "y_train = y_train[:-5000]\n",
    "\n",
    "# Input image dimensions\n",
    "input_shape = x_train.shape[1:]\n",
    "\n",
    "# Normalize data\n",
    "x_train = x_train.astype(\"float32\") / 255\n",
    "x_valid = x_valid.astype(\"float32\") / 255\n",
    "x_test = x_test.astype(\"float32\") / 255\n",
    "\n",
    "print(x_train.shape[0], \"train samples\")\n",
    "print(x_valid.shape[0], \"validation samples\")\n",
    "print(x_test.shape[0], \"test samples\")"
   ]
  },
  {
   "cell_type": "code",
   "execution_count": 4,
   "metadata": {},
   "outputs": [],
   "source": [
    "########################\n",
    "# Model initialisation #\n",
    "########################\n",
    "\n",
    "model = load_model(model_path)\n",
    "\n",
    "model.xent_loss = model.total_loss\n",
    "for loss in model.losses:\n",
    "    model.xent_loss -= loss"
   ]
  },
  {
   "cell_type": "code",
   "execution_count": 5,
   "metadata": {},
   "outputs": [],
   "source": [
    "###################\n",
    "# Data generators #\n",
    "###################\n",
    "\n",
    "valid_adv_generator = AdversarialExampleGenerator(model, x_valid, y_valid,\n",
    "                                                  batch_size=batch_size,\n",
    "                                                  epsilon=epsilon,\n",
    "                                                  k=40,\n",
    "                                                  a=epsilon / 10.0,\n",
    "                                                  incremental=False,\n",
    "                                                  shuffle=False)\n",
    "\n",
    "test_adv_generator  = AdversarialExampleGenerator(model, x_test, y_test,\n",
    "                                                  batch_size=batch_size,\n",
    "                                                  epsilon=epsilon,\n",
    "                                                  k=40,\n",
    "                                                  a=epsilon / 10.0,\n",
    "                                                  incremental=False,\n",
    "                                                  shuffle=False)"
   ]
  },
  {
   "cell_type": "code",
   "execution_count": 6,
   "metadata": {},
   "outputs": [
    {
     "name": "stderr",
     "output_type": "stream",
     "text": [
      "100%|██████████| 79/79 [02:15<00:00,  1.41s/it]\n",
      "100%|██████████| 157/157 [04:27<00:00,  1.43s/it]\n"
     ]
    }
   ],
   "source": [
    "x_acc = []\n",
    "for x_batch, _, _ in tqdm(valid_adv_generator):\n",
    "    x_acc.append(x_batch)\n",
    "x_valid_adv = np.concatenate(x_acc, axis=0)\n",
    "\n",
    "x_acc = []\n",
    "for x_batch, _, _ in tqdm(test_adv_generator):\n",
    "    x_acc.append(x_batch)\n",
    "x_test_adv = np.concatenate(x_acc, axis=0)"
   ]
  },
  {
   "cell_type": "code",
   "execution_count": 7,
   "metadata": {},
   "outputs": [],
   "source": [
    "input_tensor = model.input\n",
    "output_tensor = model.layers[-2].output\n",
    "\n",
    "representation_model = Model(inputs=input_tensor, outputs=output_tensor)\n",
    "\n",
    "train_nat_representations = representation_model.predict(x_train)\n",
    "valid_nat_representations = representation_model.predict(x_valid)\n",
    "valid_adv_representations = representation_model.predict(x_valid_adv)\n",
    "test_nat_representations = representation_model.predict(x_test)\n",
    "test_adv_representations = representation_model.predict(x_test_adv)"
   ]
  },
  {
   "cell_type": "code",
   "execution_count": 8,
   "metadata": {},
   "outputs": [],
   "source": [
    "y_train = y_train.reshape(-1)\n",
    "y_valid = y_valid.reshape(-1)\n",
    "y_test = y_test.reshape(-1)"
   ]
  },
  {
   "cell_type": "markdown",
   "metadata": {},
   "source": [
    "## SVM model"
   ]
  },
  {
   "cell_type": "code",
   "execution_count": 9,
   "metadata": {},
   "outputs": [],
   "source": [
    "class SVMModel():\n",
    "    def __init__(self, X_train, y_train, kernel=\"linear\", cache_size=1024):\n",
    "        self.scaler = StandardScaler()\n",
    "        X_train_scaled = self.scaler.fit_transform(X_train)\n",
    "        self.svm = SVC(kernel=kernel, decision_function_shape=\"ovo\", cache_size=cache_size)\n",
    "        self.svm.fit(X_train_scaled, y_train)\n",
    "\n",
    "    def predict(self, X):\n",
    "        return self.svm.predict(self.scaler.transform(X))\n",
    "    \n",
    "    def predict_with_adversarial_prediction(self, X, adv_prediction_function):\n",
    "        \"\"\"Uses the `adv_prediction_function` to decide if the input is\n",
    "           adversarial; if so, outputs class -1. Otherwise, outputs the\n",
    "           predicted class.\"\"\"\n",
    "        y_predict = self.predict(X)\n",
    "        class_distances = self.get_predicted_class_decision_boundary_distances(X, y_predict)\n",
    "        y_predict_is_adv = np.fromiter(map(adv_prediction_function, class_distances), dtype=np.bool)\n",
    "        \n",
    "        for i, x in enumerate(y_predict_is_adv):\n",
    "            if x:\n",
    "                y_predict[i] = -1\n",
    "        \n",
    "        return y_predict\n",
    "\n",
    "    def get_decision_boundary_distances(self, X):\n",
    "        return self.svm.decision_function(self.scaler.transform(X))\n",
    "\n",
    "    def get_predicted_class_decision_boundary_distances(self, X, predictions, num_classes=10):\n",
    "        distances = self.get_decision_boundary_distances(X)\n",
    "\n",
    "        predicted_class_distances = []\n",
    "\n",
    "        for k in range(len(X)):\n",
    "            distances_for_k = distances[k]\n",
    "            predicted_class_distances_for_k = []\n",
    "            i = predictions[k]\n",
    "            # When j < i\n",
    "            for j in range(i):\n",
    "                index = int((num_classes - 0.5) * j - math.pow(j, 2) / 2 + (i - j - 1))\n",
    "                predicted_class_distances_for_k.append(-1 * distances_for_k[index])\n",
    "            # When i < j\n",
    "            base_index = int((num_classes - 0.5) * i - math.pow(i, 2) / 2)\n",
    "            for j in range(i + 1, num_classes):\n",
    "                index = base_index + (j - i - 1)\n",
    "                predicted_class_distances_for_k.append(distances_for_k[index])\n",
    "            predicted_class_distances.append(predicted_class_distances_for_k)\n",
    "\n",
    "        return predicted_class_distances\n",
    "\n",
    "    def test(self, X_test, y_test):\n",
    "        \"\"\"Calculates the accuracy of the model on some test data, without\n",
    "           adversarial prediction.\"\"\"\n",
    "        \n",
    "        return self.svm.score(self.scaler.transform(X_test), y_test)\n",
    "\n",
    "    def test_with_adversarial_prediction(self, X_test, y_test, is_adversarial, adv_prediction_function):\n",
    "        \"\"\"Calculates the accuracy of the model on some test data when using\n",
    "           adversarial prediction. Takes a boolean flag indicating if the test\n",
    "           data is adversarial or not, and an adversarial prediction function\"\"\"\n",
    "        \n",
    "        y_predict = self.predict_with_adversarial_prediction(X_test, adv_prediction_function)\n",
    "        \n",
    "        # Number of inputs with correct class predicted\n",
    "        num_correct = np.sum(y_predict == y_test)\n",
    "        \n",
    "        if is_adversarial:\n",
    "            # If the examples are adversarial it's also correct to predict the\n",
    "            # class -1 (which indicates adversarialness)\n",
    "            num_correct += np.sum(y_predict == -1)\n",
    "                        \n",
    "        return num_correct / len(X_test)\n",
    "    \n",
    "    def distances_linear_map(self, X):\n",
    "        start = 0\n",
    "        end = 0\n",
    "        class_support_vect = []\n",
    "\n",
    "        class_dual_coef = []\n",
    "        for k in self.svm.n_support_:\n",
    "            end += k\n",
    "            class_support_vect.append(self.svm.support_vectors_[start:end])\n",
    "            class_dual_coef.append(self.svm.dual_coef_[:, start:end])\n",
    "            start = end\n",
    "\n",
    "        dists = np.zeros((45,100))\n",
    "        k = 0\n",
    "        for i in range(10):        \n",
    "            for j in range(i+1, 10):\n",
    "                dists[k] += np.sum(class_dual_coef[i][j-1].reshape(1,-1).T * class_support_vect[i], axis=0)\n",
    "                dists[k] += np.sum(class_dual_coef[j][i].reshape(1,-1).T * class_support_vect[j], axis=0)\n",
    "                k += 1\n",
    "\n",
    "        return ((dists / self.scaler.scale_).T, self.svm.intercept_ - ((dists / self.scaler.scale_) @ self.scaler.mean_))"
   ]
  },
  {
   "cell_type": "code",
   "execution_count": 10,
   "metadata": {},
   "outputs": [],
   "source": [
    "svm_model = SVMModel(train_nat_representations, y_train)"
   ]
  },
  {
   "cell_type": "markdown",
   "metadata": {},
   "source": [
    "## Predictions"
   ]
  },
  {
   "cell_type": "code",
   "execution_count": 11,
   "metadata": {},
   "outputs": [],
   "source": [
    "model_predict_valid_nat = np.argmax(model.predict(x_valid), axis=1)\n",
    "model_predict_valid_adv = np.argmax(model.predict(x_valid_adv), axis=1)\n",
    "\n",
    "svm_predict_valid_nat = svm_model.predict(valid_nat_representations)\n",
    "svm_predict_valid_adv = svm_model.predict(valid_adv_representations)"
   ]
  },
  {
   "cell_type": "markdown",
   "metadata": {},
   "source": [
    "## How good is the SVM as an approximation to the output layer?"
   ]
  },
  {
   "cell_type": "code",
   "execution_count": 12,
   "metadata": {},
   "outputs": [
    {
     "name": "stdout",
     "output_type": "stream",
     "text": [
      "SVM natural train accuracy 0.9667555555555556\n",
      "Model natural train accuracy 0.9578888888888889\n"
     ]
    }
   ],
   "source": [
    "print(\"SVM natural train accuracy\", svm_model.test(train_nat_representations, y_train))\n",
    "print(\"Model natural train accuracy\", model.evaluate(x_train, y_train, verbose=0)[1])"
   ]
  },
  {
   "cell_type": "code",
   "execution_count": 13,
   "metadata": {},
   "outputs": [
    {
     "name": "stdout",
     "output_type": "stream",
     "text": [
      "SVM natural valid accuracy 0.8468\n",
      "Model natural valid accuracy 0.8544\n"
     ]
    }
   ],
   "source": [
    "print(\"SVM natural valid accuracy\", svm_model.test(valid_nat_representations, y_valid))\n",
    "print(\"Model natural valid accuracy\", model.evaluate(x_valid, y_valid, verbose=0)[1])"
   ]
  },
  {
   "cell_type": "code",
   "execution_count": 14,
   "metadata": {},
   "outputs": [
    {
     "name": "stdout",
     "output_type": "stream",
     "text": [
      "SVM adversarial valid accuracy 0.653\n",
      "Model adversarial valid accuracy 0.6654\n"
     ]
    }
   ],
   "source": [
    "# Adversarial train accuracy\n",
    "print(\"SVM adversarial valid accuracy\", svm_model.test(valid_adv_representations, y_valid))\n",
    "print(\"Model adversarial valid accuracy\", model.evaluate(x_valid_adv, y_valid, verbose=0)[1])"
   ]
  },
  {
   "cell_type": "code",
   "execution_count": 15,
   "metadata": {},
   "outputs": [
    {
     "name": "stdout",
     "output_type": "stream",
     "text": [
      "Top 1 natural valid concurrence of SVM 0.9442\n"
     ]
    }
   ],
   "source": [
    "print(\n",
    "    \"Top 1 natural valid concurrence of SVM\",\n",
    "    np.count_nonzero(svm_predict_valid_nat == model_predict_valid_nat) / len(x_valid)\n",
    ")"
   ]
  },
  {
   "cell_type": "code",
   "execution_count": 16,
   "metadata": {},
   "outputs": [
    {
     "name": "stdout",
     "output_type": "stream",
     "text": [
      "Top 1 adversarial valid concurrence of SVM 0.9172\n"
     ]
    }
   ],
   "source": [
    "print(\n",
    "    \"Top 1 adversarial valid concurrence of SVM\",\n",
    "    np.count_nonzero(svm_predict_valid_adv == model_predict_valid_adv) / len(x_valid_adv)\n",
    ")"
   ]
  },
  {
   "cell_type": "code",
   "execution_count": 17,
   "metadata": {},
   "outputs": [
    {
     "name": "stdout",
     "output_type": "stream",
     "text": [
      "Top 2 natural valid concurrence of SVM 0.9918\n"
     ]
    }
   ],
   "source": [
    "count = 0\n",
    "for p, q in zip(svm_model.predict(valid_nat_representations), np.argsort(model.predict(x_valid), axis=1)[:, -2:]):\n",
    "    if p in q:\n",
    "        count += 1\n",
    "print(\"Top 2 natural valid concurrence of SVM\", count / len(x_valid))"
   ]
  },
  {
   "cell_type": "code",
   "execution_count": 18,
   "metadata": {},
   "outputs": [
    {
     "name": "stdout",
     "output_type": "stream",
     "text": [
      "Top 2 adversarial valid concurrence of SVM 0.9872\n"
     ]
    }
   ],
   "source": [
    "count = 0\n",
    "for p, q in zip(svm_model.predict(valid_adv_representations), np.argsort(model.predict(x_valid_adv), axis=1)[:, -2:]):\n",
    "    if p in q:\n",
    "        count += 1\n",
    "print(\"Top 2 adversarial valid concurrence of SVM\", count / len(x_valid_adv))"
   ]
  },
  {
   "cell_type": "code",
   "execution_count": 19,
   "metadata": {},
   "outputs": [
    {
     "name": "stderr",
     "output_type": "stream",
     "text": [
      "/data/anaconda/envs/py35/lib/python3.5/site-packages/matplotlib/axes/_axes.py:6462: UserWarning: The 'normed' kwarg is deprecated, and has been replaced by the 'density' kwarg.\n",
      "  warnings.warn(\"The 'normed' kwarg is deprecated, and has been \"\n"
     ]
    },
    {
     "data": {
      "image/png": "[encoded data removed]",
      "text/plain": [
       "<Figure size 432x288 with 1 Axes>"
      ]
     },
     "metadata": {},
     "output_type": "display_data"
    },
    {
     "data": {
      "image/png": "[encoded data removed]",
      "text/plain": [
       "<Figure size 432x288 with 1 Axes>"
      ]
     },
     "metadata": {},
     "output_type": "display_data"
    },
    {
     "data": {
      "image/png": "[encoded data removed]",
      "text/plain": [
       "<Figure size 432x288 with 1 Axes>"
      ]
     },
     "metadata": {},
     "output_type": "display_data"
    }
   ],
   "source": [
    "valid_nat_dists = svm_model.get_predicted_class_decision_boundary_distances(\n",
    "                             valid_nat_representations,\n",
    "                             svm_predict_valid_nat)\n",
    "\n",
    "valid_adv_dists = svm_model.get_predicted_class_decision_boundary_distances(\n",
    "                             *zip(*[(x,y) for (x,y,z) in  zip(\n",
    "                                 valid_adv_representations,\n",
    "                                 svm_predict_valid_adv,\n",
    "                                 y_valid\n",
    "                             ) if y != z])\n",
    "                         )\n",
    "\n",
    "nat_min_dists = list(map(lambda xs: min(xs), valid_nat_dists))\n",
    "adv_min_dists = list(map(lambda xs: min(xs), valid_adv_dists))\n",
    "\n",
    "nat_mean_dists = list(map(lambda xs: mean(xs), valid_nat_dists))\n",
    "adv_mean_dists = list(map(lambda xs: mean(xs), valid_adv_dists))\n",
    "\n",
    "nat_median_dists = list(map(lambda xs: median(xs), valid_nat_dists))\n",
    "adv_median_dists = list(map(lambda xs: median(xs), valid_adv_dists))\n",
    "\n",
    "plt.title(\"Min distance in natural model\")\n",
    "plt.hist(nat_min_dists, normed=True, bins=20, alpha=0.5, label=\"natural\")\n",
    "plt.hist(adv_min_dists, normed=True, bins=20, alpha=0.5, label=\"adversarial\")\n",
    "plt.legend()\n",
    "plt.show()\n",
    "\n",
    "plt.title(\"Mean distance in natural model\")\n",
    "plt.hist(nat_mean_dists, normed=True, bins=20, alpha=0.5, label=\"natural\")\n",
    "plt.hist(adv_mean_dists, normed=True, bins=20, alpha=0.5, label=\"adversarial\")\n",
    "plt.legend()\n",
    "plt.show()\n",
    "\n",
    "plt.title(\"Median distance in natural model\")\n",
    "plt.hist(nat_median_dists, normed=True, bins=20, alpha=0.5, label=\"natural\")\n",
    "plt.hist(adv_median_dists, normed=True, bins=20, alpha=0.5, label=\"adversarial\")\n",
    "plt.legend()\n",
    "plt.show()"
   ]
  },
  {
   "cell_type": "markdown",
   "metadata": {},
   "source": [
    "## Validation accuracy"
   ]
  },
  {
   "cell_type": "code",
   "execution_count": 21,
   "metadata": {},
   "outputs": [
    {
     "name": "stdout",
     "output_type": "stream",
     "text": [
      "0.7876 accuracy on natural images\n",
      "0.7736 accuracy on adversarial images\n"
     ]
    }
   ],
   "source": [
    "def calculate_accuracy(representations, predictions, y, is_adv, adv_pred_function):\n",
    "    dists = svm_model.get_predicted_class_decision_boundary_distances(\n",
    "                                 representations,\n",
    "                                 predictions)\n",
    "        \n",
    "    if not is_adv:\n",
    "        correct_predict = [not adv_pred_function(xs) and a == b\n",
    "                           for (xs,a,b) in zip(dists, predictions, y)]\n",
    "    else:\n",
    "        correct_predict = [adv_pred_function(xs) or a == b\n",
    "                           for (xs,a,b) in zip(dists, predictions, y)]\n",
    "    \n",
    "    return np.sum(correct_predict) / len(representations)\n",
    "\n",
    "adv_pred_function = lambda xs: min(xs) < 0.75\n",
    "\n",
    "print(calculate_accuracy(valid_nat_representations,\n",
    "                         svm_predict_valid_nat,\n",
    "                         y_valid,\n",
    "                         False,\n",
    "                         adv_pred_function),\n",
    "      \"accuracy on natural images\")\n",
    "\n",
    "\n",
    "print(calculate_accuracy(valid_adv_representations,\n",
    "                         svm_predict_valid_adv,\n",
    "                         y_valid,\n",
    "                         True,\n",
    "                         adv_pred_function),\n",
    "      \"accuracy on adversarial images\")"
   ]
  }
 ],
 "metadata": {
  "kernelspec": {
   "display_name": "Python [default]",
   "language": "python",
   "name": "python3"
  },
  "language_info": {
   "codemirror_mode": {
    "name": "ipython",
    "version": 3
   },
   "file_extension": ".py",
   "mimetype": "text/x-python",
   "name": "python",
   "nbconvert_exporter": "python",
   "pygments_lexer": "ipython3",
   "version": "3.5.5"
  }
 },
 "nbformat": 4,
 "nbformat_minor": 2
}
