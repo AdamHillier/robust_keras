{
 "cells": [
  {
   "cell_type": "code",
   "execution_count": 1,
   "metadata": {},
   "outputs": [
    {
     "name": "stderr",
     "output_type": "stream",
     "text": [
      "/data/anaconda/envs/py35/lib/python3.5/site-packages/h5py/__init__.py:36: FutureWarning: Conversion of the second argument of issubdtype from `float` to `np.floating` is deprecated. In future, it will be treated as `np.float64 == np.dtype(float).type`.\n",
      "  from ._conv import register_converters as _register_converters\n",
      "Using TensorFlow backend.\n"
     ]
    }
   ],
   "source": [
    "import numpy as np\n",
    "\n",
    "from keras.models import load_model\n",
    "\n",
    "from evaluate import evaluate\n",
    "\n",
    "from tqdm import trange\n",
    "\n",
    "import numpy as np\n",
    "import matplotlib\n",
    "import matplotlib.pyplot as plt\n",
    "import matplotlib.ticker as ticker\n",
    "\n",
    "import os\n",
    "from datetime import datetime\n",
    "import math"
   ]
  },
  {
   "cell_type": "code",
   "execution_count": 2,
   "metadata": {},
   "outputs": [],
   "source": [
    "rn0_model_path = \"saved_models/CIFAR10_SmallResNet_eps_0.000/Apr26_17-11-17/weights_050_0.87.h5\"\n",
    "rn2_model_path = \"saved_models/CIFAR10_SmallResNet_eps_0.008/Apr26_17-03-48/weights_050_0.67.h5\"\n",
    "rn8_model_path = \"saved_models/CIFAR10_SmallResNet_eps_0.031/Apr26_17-05-26/weights_050_0.39.h5\"\n",
    "rn0_model = load_model(rn0_model_path)\n",
    "rn2_model = load_model(rn2_model_path)\n",
    "rn8_model = load_model(rn8_model_path)"
   ]
  },
  {
   "cell_type": "code",
   "execution_count": 9,
   "metadata": {},
   "outputs": [
    {
     "name": "stderr",
     "output_type": "stream",
     "text": [
      "100%|██████████| 17/17 [1:12:56<00:00, 275.47s/it]\n"
     ]
    }
   ],
   "source": [
    "rn0_test_accuracies = []\n",
    "for eps in trange(0, 17):\n",
    "    eps = eps / 255\n",
    "    rn0_test_accuracies.append(evaluate(rn0_model, \"CIFAR10\", \"test\", adv=eps, verbose=0))"
   ]
  },
  {
   "cell_type": "code",
   "execution_count": 4,
   "metadata": {},
   "outputs": [
    {
     "name": "stderr",
     "output_type": "stream",
     "text": [
      "100%|██████████| 17/17 [8:58:27<00:00, 1997.12s/it]  \n"
     ]
    }
   ],
   "source": [
    "rn2_test_accuracies = []\n",
    "for eps in trange(0, 17):\n",
    "    eps = eps / 255\n",
    "    rn2_test_accuracies.append(evaluate(rn2_model, \"CIFAR10\", \"test\", adv=eps, verbose=0))"
   ]
  },
  {
   "cell_type": "code",
   "execution_count": 5,
   "metadata": {},
   "outputs": [
    {
     "name": "stderr",
     "output_type": "stream",
     "text": [
      "100%|██████████| 17/17 [3:36:00<00:00, 299.46s/it]  \n"
     ]
    }
   ],
   "source": [
    "rn8_test_accuracies = []\n",
    "for eps in trange(0, 17):\n",
    "    eps = eps / 255\n",
    "    rn8_test_accuracies.append(evaluate(rn8_model, \"CIFAR10\", \"test\", adv=eps, verbose=0))"
   ]
  },
  {
   "cell_type": "code",
   "execution_count": 6,
   "metadata": {},
   "outputs": [
    {
     "name": "stdout",
     "output_type": "stream",
     "text": [
      "[0.8683, 0.3029, 0.0589, 0.0402, 0.0387, 0.0373, 0.0354, 0.0337, 0.0302, 0.0274, 0.0249, 0.0206, 0.0201, 0.0168, 0.0148, 0.014, 0.0117]\n"
     ]
    }
   ],
   "source": [
    "print(rn0_test_accuracies)"
   ]
  },
  {
   "cell_type": "code",
   "execution_count": 7,
   "metadata": {},
   "outputs": [
    {
     "name": "stdout",
     "output_type": "stream",
     "text": [
      "[0.8447, 0.762, 0.6606, 0.5432, 0.4247, 0.3232, 0.2332, 0.1636, 0.1069, 0.0693, 0.0444, 0.0272, 0.017, 0.0129, 0.0096, 0.0081, 0.0066]\n"
     ]
    }
   ],
   "source": [
    "print(rn2_test_accuracies)"
   ]
  },
  {
   "cell_type": "code",
   "execution_count": 8,
   "metadata": {},
   "outputs": [
    {
     "name": "stdout",
     "output_type": "stream",
     "text": [
      "[0.7389, 0.6993, 0.6551, 0.6107, 0.5628, 0.5193, 0.471, 0.4232, 0.3791, 0.3361, 0.2973, 0.2614, 0.2245, 0.1908, 0.1591, 0.1336, 0.1105]\n"
     ]
    }
   ],
   "source": [
    "print(rn8_test_accuracies)"
   ]
  },
  {
   "cell_type": "code",
   "execution_count": 8,
   "metadata": {},
   "outputs": [],
   "source": [
    "figures_dir = \"figures\"\n",
    "if not os.path.exists(figures_dir):\n",
    "    os.makedirs(figures_dir)"
   ]
  },
  {
   "cell_type": "code",
   "execution_count": 2,
   "metadata": {},
   "outputs": [],
   "source": [
    "def latexify(fig_width=None, fig_height=None, columns=1):\n",
    "    \"\"\"Set up matplotlib's RC params for LaTeX plotting.\n",
    "    Call this before plotting a figure.\n",
    "\n",
    "    Parameters\n",
    "    ----------\n",
    "    fig_width : float, optional, inches\n",
    "    fig_height : float,  optional, inches\n",
    "    columns : {1, 2}\n",
    "    \"\"\"\n",
    "\n",
    "    # code adapted from http://www.scipy.org/Cookbook/Matplotlib/LaTeX_Examples\n",
    "\n",
    "    # Width and max height in inches for IEEE journals taken from\n",
    "    # computer.org/cms/Computer.org/Journal%20templates/transactions_art_guide.pdf\n",
    "\n",
    "    assert(columns in [1,2])\n",
    "\n",
    "    if fig_width is None:\n",
    "        fig_width = 3.39 if columns==1 else 6.9 # width in inches\n",
    "\n",
    "    if fig_height is None:\n",
    "        golden_mean = (math.sqrt(5)-1.0)/2.0    # Aesthetic ratio\n",
    "        fig_height = fig_width*golden_mean # height in inches\n",
    "    \n",
    "    MAX_HEIGHT_INCHES = 8.0\n",
    "    if fig_height > MAX_HEIGHT_INCHES:\n",
    "        print(\"WARNING: fig_height too large:\" + fig_height + \n",
    "              \"so will reduce to\" + MAX_HEIGHT_INCHES + \"inches.\")\n",
    "        fig_height = MAX_HEIGHT_INCHES\n",
    "\n",
    "    params = {'backend': 'ps',\n",
    "              'text.latex.preamble': [\"\\\\usepackage[lf,minionint,footnotefigures]{MinionPro}\"],\n",
    "              'axes.labelsize': 8, # fontsize for x and y labels (was 10)\n",
    "              'axes.titlesize': 8,\n",
    "#               'text.fontsize': 8, # was 10\n",
    "              'legend.fontsize': 8, # was 10\n",
    "              'xtick.labelsize': 8,\n",
    "              'ytick.labelsize': 8,\n",
    "              'text.usetex': True,\n",
    "              'figure.figsize': [fig_width, fig_height],\n",
    "              'font.family': 'serif',\n",
    "              'mathtext.default': 'regular'\n",
    "    }\n",
    "\n",
    "    matplotlib.rcParams.update(params)\n",
    "\n",
    "%matplotlib inline\n",
    "\n",
    "latexify()"
   ]
  },
  {
   "cell_type": "code",
   "execution_count": 29,
   "metadata": {},
   "outputs": [],
   "source": [
    "def save_plot(data,\n",
    "              min_y=None,\n",
    "              max_y=None,\n",
    "              x_label=\"$\\\\varepsilon$\",\n",
    "              y_label=\"Adversarial accuracy\",\n",
    "              y_is_percent=False,\n",
    "              y_is_log=False,\n",
    "              y_ticks=None,\n",
    "              v_lines=None,\n",
    "              legend=None,\n",
    "              output=\"fig.pdf\"):\n",
    "    # Do first so data gets painted over\n",
    "    if v_lines is not None:\n",
    "        for x in v_lines:\n",
    "            plt.axvline(x=x, linestyle=\"--\", color=\"black\", linewidth=0.8)\n",
    "    if min_y is not None or max_y is not None:\n",
    "        plt.gca().set_ylim([min_y, max_y])\n",
    "    for i, series in enumerate(data):\n",
    "        x, y = zip(*series)\n",
    "        if legend is None:\n",
    "            plt.plot(x, y, marker=\"o\", markersize=2)\n",
    "        else:\n",
    "            plt.plot(x, y, marker=\"o\", markersize=2, label=legend[i])\n",
    "    plt.xlabel(x_label)\n",
    "    plt.ylabel(y_label)\n",
    "    if legend is not None:\n",
    "        plt.legend()\n",
    "    plt.grid(True, \"both\", linestyle=\"dotted\")\n",
    "#     plt.gca().xaxis.set_major_locator(ticker.MultipleLocator(1.0))\n",
    "    if y_is_percent:\n",
    "        plt.gca().yaxis.set_major_formatter(ticker.PercentFormatter(decimals=0))\n",
    "    if y_is_log:\n",
    "        plt.yscale(\"log\")\n",
    "    if y_ticks is not None:\n",
    "        plt.yticks(y_ticks)\n",
    "#     plt.tight_layout()\n",
    "    plt.savefig(os.path.join(figures_dir, output), bbox_inches=\"tight\", pad_inches=0)"
   ]
  },
  {
   "cell_type": "code",
   "execution_count": 30,
   "metadata": {},
   "outputs": [
    {
     "data": {
      "image/png": "[encoded data removed]",
      "text/plain": [
       "<Figure size 244.08x150.85 with 1 Axes>"
      ]
     },
     "metadata": {
      "needs_background": "light"
     },
     "output_type": "display_data"
    }
   ],
   "source": [
    "x_axis = [x / 255 for x in range(0, 17)]\n",
    "data = [\n",
    "    zip(x_axis, rn0_test_accuracies),\n",
    "    zip(x_axis, rn2_test_accuracies),\n",
    "    zip(x_axis, rn8_test_accuracies)\n",
    "]\n",
    "v_lines = [2/255, 8/255]\n",
    "\n",
    "legend = [\"RN\\\\textsubscript{0}\", \"RN\\\\textsubscript{2}\", \"RN\\\\textsubscript{8}\"]\n",
    "\n",
    "save_plot(data, legend=legend, min_y=0, max_y=1, v_lines=v_lines, output=\"adv_training.pdf\")"
   ]
  }
 ],
 "metadata": {
  "kernelspec": {
   "display_name": "Python [default]",
   "language": "python",
   "name": "python3"
  },
  "language_info": {
   "codemirror_mode": {
    "name": "ipython",
    "version": 3
   },
   "file_extension": ".py",
   "mimetype": "text/x-python",
   "name": "python",
   "nbconvert_exporter": "python",
   "pygments_lexer": "ipython3",
   "version": "3.5.5"
  }
 },
 "nbformat": 4,
 "nbformat_minor": 2
}
