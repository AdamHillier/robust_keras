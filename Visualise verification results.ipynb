{
 "cells": [
  {
   "cell_type": "code",
   "execution_count": 1,
   "metadata": {},
   "outputs": [],
   "source": [
    "import numpy as np\n",
    "import pandas as pd\n",
    "import matplotlib\n",
    "import matplotlib.pyplot as plt\n",
    "import math\n",
    "import os\n",
    "\n",
    "from parser.parse_csv import get_dt"
   ]
  },
  {
   "cell_type": "code",
   "execution_count": 2,
   "metadata": {},
   "outputs": [],
   "source": [
    "figures_dir = \"figures\"\n",
    "if not os.path.exists(figures_dir):\n",
    "    os.makedirs(figures_dir)"
   ]
  },
  {
   "cell_type": "code",
   "execution_count": 3,
   "metadata": {},
   "outputs": [],
   "source": [
    "def latexify(fig_width=None, fig_height=None, columns=1):\n",
    "    \"\"\"Set up matplotlib's RC params for LaTeX plotting.\n",
    "    Call this before plotting a figure.\n",
    "\n",
    "    Parameters\n",
    "    ----------\n",
    "    fig_width : float, optional, inches\n",
    "    fig_height : float,  optional, inches\n",
    "    columns : {1, 2}\n",
    "    \"\"\"\n",
    "\n",
    "    # code adapted from http://www.scipy.org/Cookbook/Matplotlib/LaTeX_Examples\n",
    "\n",
    "    # Width and max height in inches for IEEE journals taken from\n",
    "    # computer.org/cms/Computer.org/Journal%20templates/transactions_art_guide.pdf\n",
    "\n",
    "    assert(columns in [1,2])\n",
    "\n",
    "    if fig_width is None:\n",
    "        fig_width = 3.39 if columns==1 else 6.9 # width in inches\n",
    "\n",
    "    if fig_height is None:\n",
    "        golden_mean = (math.sqrt(5)-1.0)/2.0    # Aesthetic ratio\n",
    "        fig_height = fig_width*golden_mean # height in inches\n",
    "    \n",
    "    MAX_HEIGHT_INCHES = 8.0\n",
    "    if fig_height > MAX_HEIGHT_INCHES:\n",
    "        print(\"WARNING: fig_height too large:\" + fig_height + \n",
    "              \"so will reduce to\" + MAX_HEIGHT_INCHES + \"inches.\")\n",
    "        fig_height = MAX_HEIGHT_INCHES\n",
    "\n",
    "    params = {'backend': 'ps',\n",
    "              'text.latex.preamble': [\"\\\\usepackage{libertine}\"],\n",
    "              'axes.labelsize': 8, # fontsize for x and y labels (was 10)\n",
    "              'axes.titlesize': 8,\n",
    "#               'text.fontsize': 8, # was 10\n",
    "              'legend.fontsize': 8, # was 10\n",
    "              'xtick.labelsize': 8,\n",
    "              'ytick.labelsize': 8,\n",
    "              'text.usetex': True,\n",
    "              'figure.figsize': [fig_width, fig_height],\n",
    "              'font.family': 'serif',\n",
    "              'mathtext.default': 'regular'\n",
    "    }\n",
    "\n",
    "    matplotlib.rcParams.update(params)\n",
    "\n",
    "%matplotlib inline\n",
    "\n",
    "latexify(fig_width=2.1, fig_height=1.7)"
   ]
  },
  {
   "cell_type": "code",
   "execution_count": 4,
   "metadata": {},
   "outputs": [],
   "source": [
    "mnist_valid_labels = pd.read_csv(\"parser/mnist_valid_labels.csv\").set_index(\"SampleNumber\")\n",
    "mnist_test_labels = pd.read_csv(\"parser/mnist_test_labels.csv\").set_index(\"SampleNumber\")\n",
    "fashion_mnist_valid_labels = pd.read_csv(\"parser/fashion_mnist_valid_labels.csv\").set_index(\"SampleNumber\")\n",
    "fashion_mnist_test_labels = pd.read_csv(\"parser/fashion_mnist_test_labels.csv\").set_index(\"SampleNumber\")\n",
    "cifar10_valid_labels = pd.read_csv(\"parser/cifar10_valid_labels.csv\").set_index(\"SampleNumber\")\n",
    "cifar10_test_labels = pd.read_csv(\"parser/cifar10_test_labels.csv\").set_index(\"SampleNumber\")"
   ]
  },
  {
   "cell_type": "code",
   "execution_count": 5,
   "metadata": {},
   "outputs": [],
   "source": [
    "def get_accuracies_valid(filename, dataset=\"mnist\"):\n",
    "    if dataset == \"mnist\":\n",
    "        labels = mnist_valid_labels\n",
    "    elif dataset == \"fashion_mnist\":\n",
    "        labels = fashion_mnist_valid_labels\n",
    "    else:\n",
    "        labels = cifar10_valid_labels\n",
    "    dt = get_dt(filename, labels)\n",
    "\n",
    "    adv_results = dt.groupby(\"ProcessedSolveStatus\")[\"SolveStatus\"].count().to_dict()\n",
    "#     print(adv_results)\n",
    "    cumulative_adv_results = []\n",
    "    accumulator = adv_results[\"ProvablyRobustByClass\"]\n",
    "    del adv_results[\"ProvablyRobustByClass\"]\n",
    "    adv_results_numbers = {}\n",
    "    for k, v in adv_results.items():\n",
    "        if k.startswith(\"InfeasibleDistance\"):\n",
    "            dist = float(k[18:])\n",
    "        elif k.startswith(\"InfeasibleUndecidedDistance\"):\n",
    "            dist = float(k[27:])\n",
    "        else:\n",
    "            continue\n",
    "        adv_results_numbers[dist] = adv_results_numbers.get(dist, 0) + v\n",
    "    for i in range(-24, 41):\n",
    "        if i / 10 in adv_results_numbers:\n",
    "            accumulator += adv_results_numbers[i / 10]\n",
    "        cumulative_adv_results.append(accumulator)\n",
    "    # Exclude 4.0 distance\n",
    "    cumulative_adv_results = cumulative_adv_results[:-1]\n",
    "\n",
    "    if \"StatusUnknown\" in adv_results:\n",
    "        accumulator += adv_results[\"StatusUnknown\"]\n",
    "    \n",
    "    if accumulator != 5000:\n",
    "        print(\"Only\", accumulator, \"samples verified so far\")\n",
    "\n",
    "    nat_results = [\n",
    "        np.logical_and(\n",
    "            dt[\"NaturalInputMinDistance\"].values >= x / 10,\n",
    "            (dt.PredictedIndex == dt.TrueIndex).values\n",
    "        ).sum()\n",
    "        for x in range(-24, 40) # Exclude 4.0 distance\n",
    "    ]\n",
    "\n",
    "    return (np.asarray(nat_results) / accumulator,\n",
    "        np.asarray(cumulative_adv_results) / accumulator)\n",
    "\n",
    "def get_accuracies_test(filename, threshold=None, dataset=\"mnist\"):\n",
    "    if dataset == \"mnist\":\n",
    "        labels = mnist_test_labels\n",
    "    elif dataset == \"fashion_mnist\":\n",
    "        labels = fashion_mnist_test_labels\n",
    "    else:\n",
    "        labels = cifar10_test_labels\n",
    "    dt = get_dt(filename, labels)\n",
    "\n",
    "    if threshold is not None:\n",
    "        nat_results = np.logical_and(dt[\"NaturalInputMinDistance\"].values >= threshold,\n",
    "                                     (dt.PredictedIndex == dt.TrueIndex).values).sum()\n",
    "    else:\n",
    "        nat_results = (dt.PredictedIndex == dt.TrueIndex).values.sum()\n",
    "\n",
    "    adv_results = dt.groupby(\"ProcessedSolveStatus\")[\"PredictedIndex\"].count().to_dict()\n",
    "    \n",
    "    print(adv_results)\n",
    "    \n",
    "    if \"InfeasibleDistance\" in adv_results:\n",
    "        adv_results[\"ProvablyRobustByClass\"] += adv_results[\"InfeasibleDistance\"]\n",
    "\n",
    "    return (nat_results / dt[\"PredictedIndex\"].count(),\n",
    "            adv_results[\"ProvablyRobustByClass\"] / dt[\"PredictedIndex\"].count())\n",
    "\n",
    "def get_accuracies_test_human_experts(filename, threshold, dataset=\"mnist\"):\n",
    "    if dataset == \"mnist\":\n",
    "        labels = mnist_test_labels\n",
    "    elif dataset == \"fashion_mnist\":\n",
    "        labels = fashion_mnist_test_labels\n",
    "    else:\n",
    "        labels = cifar10_test_labels\n",
    "    dt = get_dt(filename, labels)\n",
    "\n",
    "    nat_results = np.logical_or(\n",
    "        dt[\"NaturalInputMinDistance\"].values < threshold,\n",
    "        (dt.PredictedIndex == dt.TrueIndex).values\n",
    "    ).sum()\n",
    "\n",
    "    adv_results = dt.groupby(\"ProcessedSolveStatus\")[\"PredictedIndex\"].count().to_dict()\n",
    "    \n",
    "    print(adv_results)\n",
    "\n",
    "    if \"InfeasibleDistance\" in adv_results:\n",
    "        adv_results[\"ProvablyRobustByClass\"] += adv_results[\"InfeasibleDistance\"]\n",
    "\n",
    "    return (nat_results / dt[\"PredictedIndex\"].count(),\n",
    "            adv_results[\"ProvablyRobustByClass\"] / dt[\"PredictedIndex\"].count(),\n",
    "            (dt[\"NaturalInputMinDistance\"].values < threshold).sum() / dt[\"PredictedIndex\"].count())"
   ]
  },
  {
   "cell_type": "markdown",
   "metadata": {},
   "source": [
    "## Test results"
   ]
  },
  {
   "cell_type": "code",
   "execution_count": 6,
   "metadata": {},
   "outputs": [
    {
     "name": "stdout",
     "output_type": "stream",
     "text": [
      "IBP_MNIST_SmallCNN_train_0.200_eval_0.100_elide/Apr29_22-00-04/weights_100_0.971__linf-norm-bounded-0.1__Inf__0.0\n",
      "{'ProvablyRobustByClass': 9688, 'Vulnerable': 312}\n",
      "(0.9843, 0.9688)\n",
      "\n",
      "IBP_MNIST_MediumCNN_train_0.200_eval_0.100_elide/Apr29_21-58-36/weights_100_0.973__linf-norm-bounded-0.1__Inf__0.0\n",
      "{'ProvablyRobustByClass': 9732, 'StatusUnknown': 1, 'Vulnerable': 267}\n",
      "(0.9868, 0.9732)\n",
      "\n",
      "IBP_MNIST_SmallCNN_train_0.300_eval_0.200_elide/May01_09-41-57/weights_100_0.946__linf-norm-bounded-0.2__Inf__0.0\n",
      "{'ProvablyRobustByClass': 9389, 'Vulnerable': 611}\n",
      "(0.9762, 0.9389)\n",
      "\n",
      "IBP_MNIST_MediumCNN_train_0.300_eval_0.200_elide/May01_10-45-41/weights_100_0.953__linf-norm-bounded-0.2__Inf__0.0\n",
      "{'ProvablyRobustByClass': 9524, 'StatusUnknown': 5, 'Vulnerable': 471}\n",
      "(0.9814, 0.9524)\n",
      "\n",
      "IBP_MNIST_SmallCNN_train_0.400_eval_0.300_elide/Apr29_22-01-57/weights_100_0.906__linf-norm-bounded-0.3__Inf__0.0\n",
      "{'ProvablyRobustByClass': 8941, 'Vulnerable': 1059}\n",
      "(0.9652, 0.8941)\n",
      "\n",
      "IBP_MNIST_MediumCNN_train_0.400_eval_0.300_elide/Apr29_21-55-33/weights_100_0.915__linf-norm-bounded-0.3__Inf__0.0\n",
      "{'ProvablyRobustByClass': 9074, 'StatusUnknown': 11, 'Vulnerable': 915}\n",
      "(0.9707, 0.9074)\n",
      "\n",
      "RS_MNIST_SmallCNN_eps_0.100/May04_00-42-45/weights_070_0.96__linf-norm-bounded-0.1__Inf__0.0\n",
      "{'ProvablyRobustByClass': 9533, 'StatusUnknown': 38, 'Vulnerable': 429}\n",
      "(0.9882, 0.9533)\n",
      "\n",
      "RS_MNIST_SmallCNN_eps_0.200/May04_00-43-25/weights_070_0.95__linf-norm-bounded-0.2__Inf__0.0\n",
      "{'ProvablyRobustByClass': 8381, 'StatusUnknown': 820, 'Vulnerable': 799}\n",
      "(0.9866, 0.8381)\n",
      "\n",
      "RS_MNIST_SmallCNN_eps_0.300/May06_09-53-34/weights_070_0.91__linf-norm-bounded-0.3__Inf__0.0\n",
      "{'ProvablyRobustByClass': 5667, 'StatusUnknown': 3005, 'Vulnerable': 1328}\n",
      "(0.9805, 0.5667)\n",
      "\n"
     ]
    }
   ],
   "source": [
    "for dataset in [\"IBP_MNIST_SmallCNN_train_0.200_eval_0.100_elide/Apr29_22-00-04/weights_100_0.971__linf-norm-bounded-0.1__Inf__0.0\",\n",
    "                \"IBP_MNIST_MediumCNN_train_0.200_eval_0.100_elide/Apr29_21-58-36/weights_100_0.973__linf-norm-bounded-0.1__Inf__0.0\",\n",
    "                \"IBP_MNIST_SmallCNN_train_0.300_eval_0.200_elide/May01_09-41-57/weights_100_0.946__linf-norm-bounded-0.2__Inf__0.0\",\n",
    "                \"IBP_MNIST_MediumCNN_train_0.300_eval_0.200_elide/May01_10-45-41/weights_100_0.953__linf-norm-bounded-0.2__Inf__0.0\",\n",
    "                \"IBP_MNIST_SmallCNN_train_0.400_eval_0.300_elide/Apr29_22-01-57/weights_100_0.906__linf-norm-bounded-0.3__Inf__0.0\",\n",
    "                \"IBP_MNIST_MediumCNN_train_0.400_eval_0.300_elide/Apr29_21-55-33/weights_100_0.915__linf-norm-bounded-0.3__Inf__0.0\",\n",
    "                \"RS_MNIST_SmallCNN_eps_0.100/May04_00-42-45/weights_070_0.96__linf-norm-bounded-0.1__Inf__0.0\",\n",
    "                \"RS_MNIST_SmallCNN_eps_0.200/May04_00-43-25/weights_070_0.95__linf-norm-bounded-0.2__Inf__0.0\",\n",
    "                \"RS_MNIST_SmallCNN_eps_0.300/May06_09-53-34/weights_070_0.91__linf-norm-bounded-0.3__Inf__0.0\"]:\n",
    "    filename = \"verification_results/test/\" + dataset + \"/summary.csv\"\n",
    "    print(dataset)\n",
    "    print(get_accuracies_test(filename))\n",
    "    print()"
   ]
  },
  {
   "cell_type": "markdown",
   "metadata": {},
   "source": [
    "## MNIST 0.1"
   ]
  },
  {
   "cell_type": "code",
   "execution_count": 7,
   "metadata": {
    "scrolled": false
   },
   "outputs": [
    {
     "name": "stdout",
     "output_type": "stream",
     "text": [
      "Maximise nat and adv accuracy at delta =  0.4\n",
      "Nat accuracy 0.9798\n",
      "Adv accuracy 0.98 \n",
      "\n",
      "Maximise nat and adv accuracy at delta =  0.6\n",
      "Nat accuracy 0.9836\n",
      "Adv accuracy 0.9832 \n",
      "\n",
      "Maximise nat and adv accuracy at delta =  0.1\n",
      "Nat accuracy 0.9874\n",
      "Adv accuracy 0.9874 \n",
      "\n"
     ]
    },
    {
     "data": {
      "image/png": "[encoded data removed]",
      "text/plain": [
       "<Figure size 151.2x122.4 with 1 Axes>"
      ]
     },
     "metadata": {
      "needs_background": "light"
     },
     "output_type": "display_data"
    }
   ],
   "source": [
    "for dataset, label in zip([\"IBP_MNIST_SmallCNN_train_0.200_eval_0.100_elide/Apr29_22-00-04/weights_100_0.971__linf-norm-bounded-0.1__Inf__0.0\",\n",
    "                           \"IBP_MNIST_MediumCNN_train_0.200_eval_0.100_elide/Apr29_21-58-36/weights_100_0.973__linf-norm-bounded-0.1__Inf__0.0\",\n",
    "                           \"IBP_MNIST_LargeCNN_train_0.200_eval_0.100_elide/Apr29_21-41-43/weights_100_0.980__linf-norm-bounded-0.1__Inf__0.0\"],\n",
    "                          [\"Small\", \"Medium\", \"Large\"]):\n",
    "\n",
    "    filename = \"verification_results/validation/\" + dataset + \"/summary.csv\"\n",
    "    nat_accuracies, adv_accuracies = get_accuracies_valid(filename)\n",
    "    plt.plot(nat_accuracies, adv_accuracies, label=label)\n",
    "    plt.xlabel(\"Natural accuracy\")\n",
    "    plt.ylabel(\"Adversarial accuracy\")\n",
    "\n",
    "    plt.grid(True, \"both\", linestyle=\"dotted\")\n",
    "\n",
    "    max_min = 0\n",
    "    nat_acc = -1\n",
    "    adv_acc = -1\n",
    "    epsilon = 0\n",
    "    for (a, b, c) in zip(nat_accuracies, adv_accuracies, range(-24, 41)):\n",
    "        if min(a, b) > max_min:\n",
    "            max_min = min(a, b)\n",
    "            nat_acc = a\n",
    "            adv_acc = b\n",
    "            epsilon = c / 10\n",
    "\n",
    "    print(\"Maximise nat and adv accuracy at delta = \", epsilon)\n",
    "    print(\"Nat accuracy\", nat_acc)\n",
    "    print(\"Adv accuracy\", adv_acc, \"\\n\")\n",
    "\n",
    "plt.axis([0.7,1,0.97,1])\n",
    "plt.legend()\n",
    "\n",
    "plt.tight_layout(pad=0)\n",
    "plt.savefig(os.path.join(figures_dir, \"verification_validation_mnist_01.pdf\"), pad_inches=0)"
   ]
  },
  {
   "cell_type": "code",
   "execution_count": 8,
   "metadata": {},
   "outputs": [
    {
     "name": "stdout",
     "output_type": "stream",
     "text": [
      "{'InfeasibleDistance': 59, 'ProvablyRobustByClass': 9776, 'StatusUnknown': 4, 'Vulnerable': 161}\n",
      "(0.9834, 0.9835)\n"
     ]
    }
   ],
   "source": [
    "large_01_test = \"verification_results/test_min_dist_0.1/IBP_MNIST_LargeCNN_train_0.200_eval_0.100_elide/Apr29_21-41-43/weights_100_0.980__linf-norm-bounded-0.1__Inf__0.0/summary.csv\"\n",
    "print(get_accuracies_test(large_01_test, 0.1))"
   ]
  },
  {
   "cell_type": "markdown",
   "metadata": {},
   "source": [
    "## MNIST 0.2"
   ]
  },
  {
   "cell_type": "code",
   "execution_count": 9,
   "metadata": {},
   "outputs": [
    {
     "name": "stdout",
     "output_type": "stream",
     "text": [
      "Maximise nat and adv accuracy at delta =  0.9\n",
      "Nat accuracy 0.9672\n",
      "Adv accuracy 0.968 \n",
      "\n",
      "Maximise nat and adv accuracy at delta =  1.0\n",
      "Nat accuracy 0.9708\n",
      "Adv accuracy 0.971 \n",
      "\n",
      "Maximise nat and adv accuracy at delta =  0.7\n",
      "Nat accuracy 0.9746\n",
      "Adv accuracy 0.9738 \n",
      "\n"
     ]
    },
    {
     "data": {
      "image/png": "[encoded data removed]",
      "text/plain": [
       "<Figure size 151.2x122.4 with 1 Axes>"
      ]
     },
     "metadata": {
      "needs_background": "light"
     },
     "output_type": "display_data"
    }
   ],
   "source": [
    "for dataset, label in zip([\"IBP_MNIST_SmallCNN_train_0.300_eval_0.200_elide/May01_09-41-57/weights_100_0.946__linf-norm-bounded-0.2__Inf__0.0\",\n",
    "                           \"IBP_MNIST_MediumCNN_train_0.300_eval_0.200_elide/May01_10-45-41/weights_100_0.953__linf-norm-bounded-0.2__Inf__0.0\",\n",
    "                           \"IBP_MNIST_LargeCNN_train_0.300_eval_0.200_elide/May01_10-46-22/weights_100_0.956__linf-norm-bounded-0.2__Inf__0.0\"],\n",
    "                          [\"Small\", \"Medium\", \"Large\"]):\n",
    "\n",
    "    filename = \"verification_results/validation/\" + dataset + \"/summary.csv\"\n",
    "    nat_accuracies, adv_accuracies = get_accuracies_valid(filename)\n",
    "    plt.plot(nat_accuracies, adv_accuracies, label=label)\n",
    "    plt.xlabel(\"Natural accuracy\")\n",
    "    plt.ylabel(\"Adversarial accuracy\")\n",
    "\n",
    "    plt.grid(True, \"both\", linestyle=\"dotted\")\n",
    "\n",
    "    max_min = 0\n",
    "    nat_acc = -1\n",
    "    adv_acc = -1\n",
    "    epsilon = 0\n",
    "    for (a, b, c) in zip(nat_accuracies, adv_accuracies, range(-24, 41)):\n",
    "        if min(a, b) > max_min:\n",
    "            max_min = min(a, b)\n",
    "            nat_acc = a\n",
    "            adv_acc = b\n",
    "            epsilon = c / 10\n",
    "\n",
    "    print(\"Maximise nat and adv accuracy at delta = \", epsilon)\n",
    "    print(\"Nat accuracy\", nat_acc)\n",
    "    print(\"Adv accuracy\", adv_acc, \"\\n\")\n",
    "\n",
    "plt.axis([0.7,1,0.95,1])\n",
    "plt.legend()\n",
    "\n",
    "plt.tight_layout(pad=0)\n",
    "plt.savefig(os.path.join(figures_dir, \"verification_validation_mnist_02.pdf\"), pad_inches=0)"
   ]
  },
  {
   "cell_type": "code",
   "execution_count": 10,
   "metadata": {},
   "outputs": [
    {
     "name": "stdout",
     "output_type": "stream",
     "text": [
      "{'InfeasibleDistance': 144, 'ProvablyRobustByClass': 9535, 'StatusUnknown': 66, 'Vulnerable': 255}\n",
      "(0.9694, 0.9679)\n"
     ]
    }
   ],
   "source": [
    "large_02_test = \"verification_results/test_min_dist_0.7/IBP_MNIST_LargeCNN_train_0.300_eval_0.200_elide/May01_10-46-22/weights_100_0.956__linf-norm-bounded-0.2__Inf__0.0/summary.csv\"\n",
    "print(get_accuracies_test(large_02_test, 0.7))"
   ]
  },
  {
   "cell_type": "markdown",
   "metadata": {},
   "source": [
    "## MNIST 0.3"
   ]
  },
  {
   "cell_type": "code",
   "execution_count": 11,
   "metadata": {},
   "outputs": [
    {
     "name": "stdout",
     "output_type": "stream",
     "text": [
      "Maximise nat and adv accuracy at delta =  1.0\n",
      "Nat accuracy 0.9448\n",
      "Adv accuracy 0.9444 \n",
      "\n",
      "Maximise nat and adv accuracy at delta =  1.1\n",
      "Nat accuracy 0.9492\n",
      "Adv accuracy 0.9434 \n",
      "\n",
      "Maximise nat and adv accuracy at delta =  1.3\n",
      "Nat accuracy 0.9562\n",
      "Adv accuracy 0.957 \n",
      "\n"
     ]
    },
    {
     "data": {
      "image/png": "[encoded data removed]",
      "text/plain": [
       "<Figure size 151.2x122.4 with 1 Axes>"
      ]
     },
     "metadata": {
      "needs_background": "light"
     },
     "output_type": "display_data"
    }
   ],
   "source": [
    "for dataset, label in zip([\"IBP_MNIST_SmallCNN_train_0.400_eval_0.300_elide/Apr29_22-01-57/weights_100_0.906__linf-norm-bounded-0.3__Inf__0.0\",\n",
    "                           \"IBP_MNIST_MediumCNN_train_0.400_eval_0.300_elide/Apr29_21-55-33/weights_100_0.915__linf-norm-bounded-0.3__Inf__0.0\",\n",
    "                           \"IBP_MNIST_LargeCNN_train_0.400_eval_0.300_elide/Apr29_21-47-39/weights_100_0.926__linf-norm-bounded-0.3__Inf__0.0\"],\n",
    "                          [\"Small\", \"Medium\", \"Large\"]):\n",
    "\n",
    "    filename = \"verification_results/validation/\" + dataset + \"/summary.csv\"\n",
    "    nat_accuracies, adv_accuracies = get_accuracies_valid(filename)\n",
    "    \n",
    "    plt.plot(nat_accuracies, adv_accuracies, label=label)\n",
    "    plt.xlabel(\"Natural accuracy\")\n",
    "    plt.ylabel(\"Adversarial accuracy\")\n",
    "\n",
    "    plt.grid(True, \"both\", linestyle=\"dotted\")\n",
    "\n",
    "    max_min = 0\n",
    "    nat_acc = -1\n",
    "    adv_acc = -1\n",
    "    epsilon = 0\n",
    "    for (a, b, c) in zip(nat_accuracies, adv_accuracies, range(-24, 41)):\n",
    "        if min(a, b) > max_min:\n",
    "            max_min = min(a, b)\n",
    "            nat_acc = a\n",
    "            adv_acc = b\n",
    "            epsilon = c / 10\n",
    "\n",
    "    print(\"Maximise nat and adv accuracy at delta = \", epsilon)\n",
    "    print(\"Nat accuracy\", nat_acc)\n",
    "    print(\"Adv accuracy\", adv_acc, \"\\n\")\n",
    "\n",
    "plt.axis([0.7,1,0.90,1])\n",
    "plt.legend()\n",
    "\n",
    "plt.tight_layout(pad=0)\n",
    "plt.savefig(os.path.join(figures_dir, \"verification_validation_mnist_03.pdf\"), pad_inches=0)"
   ]
  },
  {
   "cell_type": "code",
   "execution_count": 12,
   "metadata": {},
   "outputs": [
    {
     "name": "stdout",
     "output_type": "stream",
     "text": [
      "{'InfeasibleDistance': 310, 'ProvablyRobustByClass': 9159, 'StatusUnknown': 169, 'Vulnerable': 362}\n",
      "(0.9464, 0.9469)\n"
     ]
    }
   ],
   "source": [
    "large_02_test = \"verification_results/test_min_dist_1.3/IBP_MNIST_LargeCNN_train_0.400_eval_0.300_elide/Apr29_21-47-39/weights_100_0.926__linf-norm-bounded-0.3__Inf__0.0/summary.csv\"\n",
    "print(get_accuracies_test(large_02_test, 1.3))"
   ]
  },
  {
   "cell_type": "markdown",
   "metadata": {},
   "source": [
    "## Use human experts"
   ]
  },
  {
   "cell_type": "code",
   "execution_count": 13,
   "metadata": {},
   "outputs": [
    {
     "name": "stdout",
     "output_type": "stream",
     "text": [
      "39 1.5 4815 0.9956\n",
      "38 1.4 4820 0.9848\n",
      "37 1.3 4801 0.957\n"
     ]
    }
   ],
   "source": [
    "for dataset in [\"IBP_MNIST_LargeCNN_train_0.200_eval_0.100_elide/Apr29_21-41-43/weights_100_0.980__linf-norm-bounded-0.1__Inf__0.0\",\n",
    "                \"IBP_MNIST_LargeCNN_train_0.300_eval_0.200_elide/May01_10-46-22/weights_100_0.956__linf-norm-bounded-0.2__Inf__0.0\",\n",
    "                \"IBP_MNIST_LargeCNN_train_0.400_eval_0.300_elide/Apr29_21-47-39/weights_100_0.926__linf-norm-bounded-0.3__Inf__0.0\"]:\n",
    "    filename = \"verification_results/validation/\" + dataset + \"/summary.csv\"\n",
    "    dt = get_dt(filename, mnist_valid_labels)\n",
    "    nat_results = [(dt[\"NaturalInputMinDistance\"].values >= x / 10).sum()\n",
    "                   for x in range(-24, 40)] # Exclude 4.0 distance\n",
    "    nat_accuracies, adv_accuracies = get_accuracies_valid(filename)\n",
    "\n",
    "    nat_results = [x for x in nat_results if x >= 4800]\n",
    "    index = len(nat_results)\n",
    "    print(index, (index - 24) / 10, nat_results[-1], adv_accuracies[index])"
   ]
  },
  {
   "cell_type": "markdown",
   "metadata": {},
   "source": [
    "## Withold 5%"
   ]
  },
  {
   "cell_type": "code",
   "execution_count": 14,
   "metadata": {},
   "outputs": [
    {
     "name": "stdout",
     "output_type": "stream",
     "text": [
      "{'InfeasibleDistance': 167, 'ProvablyRobustByClass': 9776, 'StatusUnknown': 4, 'Vulnerable': 53}\n",
      "(0.9981, 0.9943, 0.0458)\n",
      "{'InfeasibleDistance': 246, 'ProvablyRobustByClass': 9535, 'StatusUnknown': 52, 'Vulnerable': 167}\n",
      "(0.998, 0.9781, 0.0473)\n",
      "{'InfeasibleDistance': 310, 'ProvablyRobustByClass': 9159, 'StatusUnknown': 169, 'Vulnerable': 362}\n",
      "(0.9962, 0.9469, 0.0498)\n"
     ]
    }
   ],
   "source": [
    "for dataset, index in zip([\"IBP_MNIST_LargeCNN_train_0.200_eval_0.100_elide/Apr29_21-41-43/weights_100_0.980__linf-norm-bounded-0.1__Inf__0.0\",\n",
    "                           \"IBP_MNIST_LargeCNN_train_0.300_eval_0.200_elide/May01_10-46-22/weights_100_0.956__linf-norm-bounded-0.2__Inf__0.0\",\n",
    "                           \"IBP_MNIST_LargeCNN_train_0.400_eval_0.300_elide/Apr29_21-47-39/weights_100_0.926__linf-norm-bounded-0.3__Inf__0.0\"],\n",
    "                          [39, 38, 37]):\n",
    "    threshold = (index - 24) / 10\n",
    "    filename = \"verification_results/test_min_dist_\" + str(threshold) + \"/\" + dataset + \"/summary.csv\"\n",
    "    print(get_accuracies_test_human_experts(filename, threshold))"
   ]
  },
  {
   "cell_type": "markdown",
   "metadata": {},
   "source": [
    "## Withold 10%"
   ]
  },
  {
   "cell_type": "code",
   "execution_count": 15,
   "metadata": {},
   "outputs": [
    {
     "name": "stdout",
     "output_type": "stream",
     "text": [
      "{'InfeasibleDistance': 197, 'ProvablyRobustByClass': 9776, 'StatusUnknown': 4, 'Vulnerable': 23}\n",
      "(0.9993, 0.9973, 0.1033)\n",
      "{'InfeasibleDistance': 345, 'ProvablyRobustByClass': 9535, 'StatusUnknown': 44, 'Vulnerable': 76}\n",
      "(0.9991, 0.988, 0.0942)\n",
      "{'InfeasibleDistance': 526, 'ProvablyRobustByClass': 9161, 'StatusUnknown': 98, 'Vulnerable': 215}\n",
      "(0.9984, 0.9687, 0.1074)\n"
     ]
    }
   ],
   "source": [
    "for dataset, index in zip([\"IBP_MNIST_LargeCNN_train_0.200_eval_0.100_elide/Apr29_21-41-43/weights_100_0.980__linf-norm-bounded-0.1__Inf__0.0\",\n",
    "                           \"IBP_MNIST_LargeCNN_train_0.300_eval_0.200_elide/May01_10-46-22/weights_100_0.956__linf-norm-bounded-0.2__Inf__0.0\",\n",
    "                           \"IBP_MNIST_LargeCNN_train_0.400_eval_0.300_elide/Apr29_21-47-39/weights_100_0.926__linf-norm-bounded-0.3__Inf__0.0\"],\n",
    "                          [45, 46, 46]):\n",
    "    threshold = (index - 24) / 10\n",
    "    filename = \"verification_results/test_min_dist_\" + str(threshold) + \"/\" + dataset + \"/summary.csv\"\n",
    "    print(get_accuracies_test_human_experts(filename, threshold))"
   ]
  },
  {
   "cell_type": "markdown",
   "metadata": {},
   "source": [
    "## Withold 20%"
   ]
  },
  {
   "cell_type": "code",
   "execution_count": 16,
   "metadata": {},
   "outputs": [
    {
     "name": "stdout",
     "output_type": "stream",
     "text": [
      "{'InfeasibleDistance': 208, 'ProvablyRobustByClass': 9776, 'StatusUnknown': 2, 'Vulnerable': 14}\n",
      "(0.9998, 0.9984, 0.1887)\n",
      "{'InfeasibleDistance': 412, 'ProvablyRobustByClass': 9535, 'StatusUnknown': 27, 'Vulnerable': 26}\n",
      "(0.9998, 0.9947, 0.211)\n",
      "{'InfeasibleDistance': 654, 'ProvablyRobustByClass': 9161, 'StatusUnknown': 60, 'Vulnerable': 125}\n",
      "(0.9996, 0.9815, 0.1925)\n"
     ]
    }
   ],
   "source": [
    "for dataset, index in zip([\"IBP_MNIST_LargeCNN_train_0.200_eval_0.100_elide/Apr29_21-41-43/weights_100_0.980__linf-norm-bounded-0.1__Inf__0.0\",\n",
    "                           \"IBP_MNIST_LargeCNN_train_0.300_eval_0.200_elide/May01_10-46-22/weights_100_0.956__linf-norm-bounded-0.2__Inf__0.0\",\n",
    "                           \"IBP_MNIST_LargeCNN_train_0.400_eval_0.300_elide/Apr29_21-47-39/weights_100_0.926__linf-norm-bounded-0.3__Inf__0.0\"],\n",
    "                          [49, 54, 53]):\n",
    "    threshold = (index - 24) / 10\n",
    "    filename = \"verification_results/test_min_dist_\" + str(threshold) + \"/\" + dataset + \"/summary.csv\"\n",
    "    print(get_accuracies_test_human_experts(filename, threshold))"
   ]
  },
  {
   "cell_type": "markdown",
   "metadata": {},
   "source": [
    "## CIFAR-10 2/255"
   ]
  },
  {
   "cell_type": "code",
   "execution_count": 17,
   "metadata": {},
   "outputs": [
    {
     "name": "stdout",
     "output_type": "stream",
     "text": [
      "Maximise nat and adv accuracy at delta =  0.3\n",
      "Nat accuracy 0.5256\n",
      "Adv accuracy 0.5484 \n",
      "\n"
     ]
    },
    {
     "data": {
      "image/png": "[encoded data removed]",
      "text/plain": [
       "<Figure size 151.2x122.4 with 1 Axes>"
      ]
     },
     "metadata": {
      "needs_background": "light"
     },
     "output_type": "display_data"
    }
   ],
   "source": [
    "for dataset, label in zip([\"IBP_CIFAR10_SmallCNN_train_0.009_eval_0.008_elide/May06_13-14-55/weights_350_0.434__linf-norm-bounded-0.007843137__Inf__0.0\",\n",
    "                           #\"IBP_CIFAR10_LargeCNN_2_train_0.009_eval_0.008_elide/May11_10-53-11/weights_400_0.441__linf-norm-bounded-0.007843137__Inf__0.0\"\n",
    "                          ],\n",
    "                          [\"Small\", #\"Large2\"\n",
    "                          ]):\n",
    "\n",
    "    filename = \"verification_results/validation/\" + dataset + \"/summary.csv\"\n",
    "    nat_accuracies, adv_accuracies = get_accuracies_valid(filename, dataset=\"cifar\")\n",
    "    plt.plot(nat_accuracies, adv_accuracies, label=label)\n",
    "    plt.xlabel(\"Natural accuracy\")\n",
    "    plt.ylabel(\"Adversarial accuracy\")\n",
    "\n",
    "    plt.grid(True, \"both\", linestyle=\"dotted\")\n",
    "\n",
    "    max_min = 0\n",
    "    nat_acc = -1\n",
    "    adv_acc = -1\n",
    "    epsilon = 0\n",
    "    for (a, b, c) in zip(nat_accuracies, adv_accuracies, range(-24, 41)):\n",
    "        if min(a, b) > max_min:\n",
    "            max_min = min(a, b)\n",
    "            nat_acc = a\n",
    "            adv_acc = b\n",
    "            epsilon = c / 10\n",
    "\n",
    "    print(\"Maximise nat and adv accuracy at delta = \", epsilon)\n",
    "    print(\"Nat accuracy\", nat_acc)\n",
    "    print(\"Adv accuracy\", adv_acc, \"\\n\")\n",
    "\n",
    "plt.axis([0.1,0.7,0.4,1])\n",
    "plt.legend()\n",
    "\n",
    "plt.tight_layout(pad=0)\n",
    "plt.savefig(os.path.join(figures_dir, \"verification_validation_cifar_2_255.pdf\"), pad_inches=0)"
   ]
  },
  {
   "cell_type": "code",
   "execution_count": null,
   "metadata": {},
   "outputs": [],
   "source": [
    "small_02_test = \"verification_results/test_min_dist_0.3/IBP_CIFAR10_SmallCNN_train_0.009_eval_0.008_elide/May06_13-14-55/weights_350_0.434__linf-norm-bounded-0.007843137__Inf__0.0/summary.csv\"\n",
    "print(get_accuracies_test(small_02_test, 0.3, dataset=\"cifar\"))"
   ]
  },
  {
   "cell_type": "markdown",
   "metadata": {},
   "source": [
    "## CIFAR-10 8/255"
   ]
  },
  {
   "cell_type": "code",
   "execution_count": 18,
   "metadata": {},
   "outputs": [
    {
     "name": "stdout",
     "output_type": "stream",
     "text": [
      "Maximise nat and adv accuracy at delta =  0.3\n",
      "Nat accuracy 0.3482\n",
      "Adv accuracy 0.3466 \n",
      "\n",
      "0.446 0.2728\n"
     ]
    },
    {
     "data": {
      "image/png": "[encoded data removed]",
      "text/plain": [
       "<Figure size 151.2x122.4 with 1 Axes>"
      ]
     },
     "metadata": {
      "needs_background": "light"
     },
     "output_type": "display_data"
    }
   ],
   "source": [
    "for dataset, label in zip([\"IBP_CIFAR10_SmallCNN_train_0.035_eval_0.031_elide/May06_13-56-54/weights_350_0.265__linf-norm-bounded-0.031372549__Inf__0.0\",\n",
    "                           #\"IBP_CIFAR10_LargeCNN_2_train_0.035_eval_0.031_elide/May10_21-26-24/weights_400_0.271__linf-norm-bounded-0.031372549__Inf__0.0\"\n",
    "                          ],\n",
    "                          [\"Small\", #\"Large2\"\n",
    "                          ]):\n",
    "\n",
    "    filename = \"verification_results/validation/\" + dataset + \"/summary.csv\"\n",
    "    nat_accuracies, adv_accuracies = get_accuracies_valid(filename, dataset=\"cifar\")\n",
    "    plt.plot(nat_accuracies, adv_accuracies, label=label)\n",
    "    plt.xlabel(\"Natural accuracy\")\n",
    "    plt.ylabel(\"Adversarial accuracy\")\n",
    "\n",
    "    plt.grid(True, \"both\", linestyle=\"dotted\")\n",
    "\n",
    "    max_min = 0\n",
    "    nat_acc = -1\n",
    "    adv_acc = -1\n",
    "    epsilon = 0\n",
    "    for (a, b, c) in zip(nat_accuracies, adv_accuracies, range(-24, 41)):\n",
    "        if min(a, b) > max_min:\n",
    "            max_min = min(a, b)\n",
    "            nat_acc = a\n",
    "            adv_acc = b\n",
    "            epsilon = c / 10\n",
    "\n",
    "    print(\"Maximise nat and adv accuracy at delta = \", epsilon)\n",
    "    print(\"Nat accuracy\", nat_acc)\n",
    "    print(\"Adv accuracy\", adv_acc, \"\\n\")\n",
    "    print(nat_accuracies[0], adv_accuracies[0])\n",
    "\n",
    "plt.axis([0.1,0.45,0.2,1])\n",
    "plt.legend()\n",
    "\n",
    "plt.tight_layout(pad=0)\n",
    "plt.savefig(os.path.join(figures_dir, \"verification_validation_cifar_8_255.pdf\"), pad_inches=0)"
   ]
  },
  {
   "cell_type": "markdown",
   "metadata": {},
   "source": [
    "## CIFAR-10 test results"
   ]
  },
  {
   "cell_type": "code",
   "execution_count": null,
   "metadata": {},
   "outputs": [],
   "source": [
    "for dataset in [\"IBP_CIFAR10_SmallCNN_train_0.009_eval_0.008_elide/May06_13-14-55/weights_350_0.434__linf-norm-bounded-0.007843137__Inf__0.0\",\n",
    "                \"IBP_CIFAR10_SmallCNN_train_0.035_eval_0.031_elide/May06_13-56-54/weights_350_0.265__linf-norm-bounded-0.031372549__Inf__0.0\"]:\n",
    "    filename = \"verification_results/test/\" + dataset + \"/summary.csv\"\n",
    "    print(dataset)\n",
    "    print(get_accuracies_test(filename, dataset=\"cifar\"))\n",
    "    print()"
   ]
  },
  {
   "cell_type": "markdown",
   "metadata": {},
   "source": [
    "## CIFAR use human experts"
   ]
  },
  {
   "cell_type": "code",
   "execution_count": null,
   "metadata": {},
   "outputs": [],
   "source": [
    "for dataset in [\"IBP_CIFAR10_SmallCNN_train_0.009_eval_0.008_elide/May06_13-14-55/weights_350_0.434__linf-norm-bounded-0.007843137__Inf__0.0\",\n",
    "                \"IBP_CIFAR10_SmallCNN_train_0.035_eval_0.031_elide/May06_13-56-54/weights_350_0.265__linf-norm-bounded-0.031372549__Inf__0.0\"]:\n",
    "    filename = \"verification_results/validation/\" + dataset + \"/summary.csv\"\n",
    "    dt = get_dt(filename, cifar10_valid_labels)\n",
    "    nat_results = [(dt[\"NaturalInputMinDistance\"].values >= x / 10).sum()\n",
    "                   for x in range(-24, 40)] # Exclude 4.0 distance\n",
    "    nat_accuracies, adv_accuracies = get_accuracies_valid(filename, dataset=\"cifar\")\n",
    "\n",
    "    nat_results = [x for x in nat_results if x >= 4200]\n",
    "    index = len(nat_results)\n",
    "    print(index, (index - 24) / 10, nat_results[-1], nat_accuracies[index], adv_accuracies[index])"
   ]
  },
  {
   "cell_type": "markdown",
   "metadata": {},
   "source": [
    "## Withold 5%"
   ]
  },
  {
   "cell_type": "code",
   "execution_count": null,
   "metadata": {},
   "outputs": [],
   "source": [
    "for dataset, index in zip([\"IBP_CIFAR10_SmallCNN_train_0.009_eval_0.008_elide/May06_13-14-55/weights_350_0.434__linf-norm-bounded-0.007843137__Inf__0.0\",\n",
    "                           \"IBP_CIFAR10_SmallCNN_train_0.035_eval_0.031_elide/May06_13-56-54/weights_350_0.265__linf-norm-bounded-0.031372549__Inf__0.0\"],\n",
    "                          [22,20]):\n",
    "    threshold = (index - 24) / 10\n",
    "    filename = \"verification_results/test_min_dist_\" + str(threshold) + \"/\" + dataset + \"/summary.csv\"\n",
    "    print(get_accuracies_test_human_experts(filename, threshold, dataset=\"cifar\"))"
   ]
  },
  {
   "cell_type": "markdown",
   "metadata": {},
   "source": [
    "## Withold 10%"
   ]
  },
  {
   "cell_type": "code",
   "execution_count": null,
   "metadata": {},
   "outputs": [],
   "source": [
    "for dataset, index in zip([\"IBP_CIFAR10_SmallCNN_train_0.009_eval_0.008_elide/May06_13-14-55/weights_350_0.434__linf-norm-bounded-0.007843137__Inf__0.0\",\n",
    "                           \"IBP_CIFAR10_SmallCNN_train_0.035_eval_0.031_elide/May06_13-56-54/weights_350_0.265__linf-norm-bounded-0.031372549__Inf__0.0\"],\n",
    "                          [24,22]):\n",
    "    threshold = (index - 24) / 10\n",
    "    filename = \"verification_results/test_min_dist_\" + str(threshold) + \"/\" + dataset + \"/summary.csv\"\n",
    "    print(get_accuracies_test_human_experts(filename, threshold, dataset=\"cifar\"))"
   ]
  },
  {
   "cell_type": "markdown",
   "metadata": {},
   "source": [
    "## Withold 20%"
   ]
  },
  {
   "cell_type": "code",
   "execution_count": null,
   "metadata": {},
   "outputs": [],
   "source": [
    "for dataset, index in zip([\"IBP_CIFAR10_SmallCNN_train_0.009_eval_0.008_elide/May06_13-14-55/weights_350_0.434__linf-norm-bounded-0.007843137__Inf__0.0\",\n",
    "                           \"IBP_CIFAR10_SmallCNN_train_0.035_eval_0.031_elide/May06_13-56-54/weights_350_0.265__linf-norm-bounded-0.031372549__Inf__0.0\"],\n",
    "                          [26,24]):\n",
    "    threshold = (index - 24) / 10\n",
    "    filename = \"verification_results/test_min_dist_\" + str(threshold) + \"/\" + dataset + \"/summary.csv\"\n",
    "    print(get_accuracies_test_human_experts(filename, threshold, dataset=\"cifar\"))"
   ]
  },
  {
   "cell_type": "markdown",
   "metadata": {},
   "source": [
    "## Fashion MNIST"
   ]
  },
  {
   "cell_type": "code",
   "execution_count": null,
   "metadata": {
    "scrolled": false
   },
   "outputs": [],
   "source": [
    "plt.figure()\n",
    "\n",
    "# Set height = width\n",
    "fig = plt.gcf()\n",
    "width, height = fig.get_size_inches()\n",
    "fig.set_size_inches(width, width)\n",
    "\n",
    "for dataset, label in zip([\"IBP_FASHION_MNIST_SmallCNN_train_0.125_eval_0.100_elide/May14_22-12-35/weights_200_0.725__linf-norm-bounded-0.1__Inf__0.0\",\n",
    "                           \"IBP_FASHION_MNIST_MediumCNN_train_0.125_eval_0.100_elide/May14_23-38-31/weights_200_0.733__linf-norm-bounded-0.1__Inf__0.0\"],\n",
    "                          [\"Small\", \"Medium\"]):\n",
    "\n",
    "    filename = \"verification_results/validation/\" + dataset + \"/summary.csv\"\n",
    "    nat_accuracies, adv_accuracies = get_accuracies_valid(filename, dataset=\"fashion_mnist\")\n",
    "    plt.plot(nat_accuracies, adv_accuracies, label=label)\n",
    "    plt.xlabel(\"Natural accuracy\")\n",
    "    plt.ylabel(\"Adversarial accuracy\")\n",
    "\n",
    "    plt.grid(True, \"both\", linestyle=\"dotted\")\n",
    "\n",
    "    max_min = 0\n",
    "    nat_acc = -1\n",
    "    adv_acc = -1\n",
    "    epsilon = 0\n",
    "    for (a, b, c) in zip(nat_accuracies, adv_accuracies, range(-24, 41)):\n",
    "        if min(a, b) > max_min:\n",
    "            max_min = min(a, b)\n",
    "            nat_acc = a\n",
    "            adv_acc = b\n",
    "            epsilon = c / 10\n",
    "\n",
    "    print(\"Maximise nat and adv accuracy at delta = \", epsilon)\n",
    "    print(\"Nat accuracy\", nat_acc)\n",
    "    print(\"Adv accuracy\", adv_acc, \"\\n\")\n",
    "    print(nat_accuracies[0], adv_accuracies[0])\n",
    "\n",
    "# plt.axis([0.5,1,0.97,1])\n",
    "plt.legend()\n",
    "\n",
    "plt.tight_layout()\n",
    "plt.savefig(os.path.join(figures_dir, \"verification_validation_fashion_mnist_01.pdf\"), bbox_inches=\"tight\", pad_inches=0)"
   ]
  },
  {
   "cell_type": "code",
   "execution_count": null,
   "metadata": {},
   "outputs": [],
   "source": []
  }
 ],
 "metadata": {
  "kernelspec": {
   "display_name": "Python 3",
   "language": "python",
   "name": "python3"
  },
  "language_info": {
   "codemirror_mode": {
    "name": "ipython",
    "version": 3
   },
   "file_extension": ".py",
   "mimetype": "text/x-python",
   "name": "python",
   "nbconvert_exporter": "python",
   "pygments_lexer": "ipython3",
   "version": "3.7.2"
  }
 },
 "nbformat": 4,
 "nbformat_minor": 2
}
